{
  "nbformat": 4,
  "nbformat_minor": 0,
  "metadata": {
    "colab": {
      "name": "cvae_mnist.ipynb",
      "provenance": [],
      "collapsed_sections": [],
      "authorship_tag": "ABX9TyMa42Vs5xxE8coQ/jRwa64O",
      "include_colab_link": true
    },
    "kernelspec": {
      "name": "python3",
      "display_name": "Python 3"
    },
    "accelerator": "GPU"
  },
  "cells": [
    {
      "cell_type": "markdown",
      "metadata": {
        "id": "view-in-github",
        "colab_type": "text"
      },
      "source": [
        "<a href=\"https://colab.research.google.com/github/felix0097/CVAE_mnist/blob/master/cvae_mnist.ipynb\" target=\"_parent\"><img src=\"https://colab.research.google.com/assets/colab-badge.svg\" alt=\"Open In Colab\"/></a>"
      ]
    },
    {
      "cell_type": "code",
      "metadata": {
        "id": "hwVSjrch0s2a",
        "colab_type": "code",
        "colab": {}
      },
      "source": [
        "!pip install tensorflow==2.1.0\n",
        "!pip install tensorflow-probability==0.9.0"
      ],
      "execution_count": 0,
      "outputs": []
    },
    {
      "cell_type": "code",
      "metadata": {
        "id": "XDvrEbJm2soK",
        "colab_type": "code",
        "colab": {
          "base_uri": "https://localhost:8080/",
          "height": 35
        },
        "outputId": "5e7c2783-75ae-4aed-87b4-f0664f43819f"
      },
      "source": [
        "import tensorflow as tf\n",
        "import tensorflow_probability as tfp\n",
        "import tensorflow_datasets as tfds\n",
        "import numpy as np\n",
        "import matplotlib.pyplot as plt\n",
        "from typing import Tuple\n",
        "from math import ceil\n",
        "\n",
        "tf.config.list_physical_devices('GPU')"
      ],
      "execution_count": 1,
      "outputs": [
        {
          "output_type": "execute_result",
          "data": {
            "text/plain": [
              "[PhysicalDevice(name='/physical_device:GPU:0', device_type='GPU')]"
            ]
          },
          "metadata": {
            "tags": []
          },
          "execution_count": 1
        }
      ]
    },
    {
      "cell_type": "markdown",
      "metadata": {
        "id": "tHNGsCTqYVyV",
        "colab_type": "text"
      },
      "source": [
        "**Define Convolutional CVAE model**"
      ]
    },
    {
      "cell_type": "code",
      "metadata": {
        "id": "vdh6QpFh09Q9",
        "colab_type": "code",
        "colab": {}
      },
      "source": [
        "class ConvCVAE(tf.keras.Model):\n",
        "\n",
        "  def __init__(self, \n",
        "               input_shape_img: Tuple[int, int, int],\n",
        "               input_shape_cond: int, \n",
        "               latent_dim: int):\n",
        "\n",
        "    super(ConvCVAE, self).__init__()\n",
        "\n",
        "    self.input_shape_img = input_shape_img\n",
        "    self.latent_dim = latent_dim\n",
        "\n",
        "    self.conv_enc = tf.keras.Sequential(\n",
        "        [tf.keras.layers.InputLayer(input_shape=input_shape_img),\n",
        "         tf.keras.layers.Conv2D(filters=64, \n",
        "                                kernel_size=3, \n",
        "                                activation='relu',\n",
        "                                padding='same'),\n",
        "         tf.keras.layers.MaxPooling2D(pool_size=(2, 2),\n",
        "                                      padding='same'),\n",
        "         tf.keras.layers.Conv2D(filters=128, \n",
        "                                kernel_size=3,\n",
        "                                activation='relu',\n",
        "                                padding='same'),\n",
        "         tf.keras.layers.MaxPooling2D(pool_size=(2, 2),\n",
        "                                      padding='same'),\n",
        "         tf.keras.layers.Flatten()\n",
        "      ],\n",
        "      name='encoder')\n",
        "    \n",
        "    self.enc = tf.keras.Sequential(\n",
        "        [tf.keras.layers.InputLayer(\n",
        "            input_shape=self.conv_enc.output_shape[1] + input_shape_cond\n",
        "            ),\n",
        "         tf.keras.layers.Dense(self.conv_enc.output_shape[1] // 4,\n",
        "                               activation='relu',\n",
        "                               kernel_regularizer=tf.keras.regularizers.l2(\n",
        "                                   l=1e-4)\n",
        "                               ),\n",
        "         tf.keras.layers.Dense(2*latent_dim,\n",
        "                               kernel_regularizer=tf.keras.regularizers.l2(\n",
        "                                   l=1e-4)\n",
        "                               )\n",
        "         ]\n",
        "    )\n",
        "\n",
        "    self.dec = tf.keras.Sequential(\n",
        "        [tf.keras.layers.InputLayer(\n",
        "            input_shape=(latent_dim + input_shape_cond)\n",
        "            ),\n",
        "         tf.keras.layers.Dense(units=self.conv_enc.output_shape[1],\n",
        "                               activation=tf.nn.relu,\n",
        "                               kernel_regularizer=tf.keras.regularizers.l2(\n",
        "                                   l=1e-4)\n",
        "                               ),\n",
        "         tf.keras.layers.Reshape(\n",
        "             target_shape=self.conv_enc.layers[-2].output_shape[1:]\n",
        "             ),\n",
        "         tf.keras.layers.Conv2DTranspose(filters=128,\n",
        "                                         kernel_size=3,\n",
        "                                         activation='relu',\n",
        "                                         padding='same'\n",
        "                                         ),\n",
        "         tf.keras.layers.UpSampling2D(size=(2, 2)),\n",
        "         tf.keras.layers.Conv2DTranspose(filters=64,\n",
        "                                         kernel_size=3,\n",
        "                                         activation='relu',\n",
        "                                         padding='same'\n",
        "                                         ),\n",
        "         tf.keras.layers.UpSampling2D(size=(2, 2)),\n",
        "         tf.keras.layers.Conv2DTranspose(filters=input_shape_img[2], \n",
        "                                         kernel_size=3, \n",
        "                                         strides=(1, 1),\n",
        "                                         padding='same'\n",
        "                                         ),\n",
        "         tf.keras.layers.Activation('sigmoid')\n",
        "        ],\n",
        "        name='decoder')\n",
        "    \n",
        "  def call(self, inputs, training=False):\n",
        "\n",
        "    img_input = inputs[0]\n",
        "    cond_input = inputs[1]\n",
        "\n",
        "    encoded_img = self.conv_enc(img_input)\n",
        "    enc_output = self.enc(tf.concat([encoded_img, cond_input], axis=1))\n",
        "    mean, log_scale = tf.split(enc_output, num_or_size_splits=2, axis=1)\n",
        "    scale= tf.math.exp(log_scale)\n",
        "\n",
        "    latent_dist = tfp.distributions.MultivariateNormalDiag(loc=mean,\n",
        "                                                           scale_diag=scale)\n",
        "      \n",
        "    ref_dist = tfp.distributions.MultivariateNormalDiag(\n",
        "        loc=tf.zeros([self.latent_dim])\n",
        "        )\n",
        "\n",
        "    kl_divergence = tfp.distributions.kl_divergence(latent_dist, ref_dist)\n",
        "\n",
        "    self.add_loss(tf.math.reduce_mean(kl_divergence, \n",
        "                                      name='KL_divergence_loss'),\n",
        "                  inputs=True\n",
        "    )\n",
        "\n",
        "    input_dec = tf.concat([latent_dist.sample(), cond_input], axis=1)\n",
        "    dec_img = self.dec(input_dec)\n",
        "    dec_img = tf.image.resize_with_crop_or_pad(dec_img, \n",
        "                                               self.input_shape_img[0],\n",
        "                                               self.input_shape_img[1])\n",
        "      \n",
        "    return dec_img\n",
        "      "
      ],
      "execution_count": 0,
      "outputs": []
    },
    {
      "cell_type": "markdown",
      "metadata": {
        "id": "nZJjtbCWYe01",
        "colab_type": "text"
      },
      "source": [
        "**Prepare data set for fitting**"
      ]
    },
    {
      "cell_type": "code",
      "metadata": {
        "id": "0aeJiQ9cYkUQ",
        "colab_type": "code",
        "colab": {}
      },
      "source": [
        "BATCH_SIZE = 1024\n",
        "\n",
        "def preprocess_data(elem):\n",
        "    img = elem['image']\n",
        "    label = elem['label']\n",
        "    # convert input image to [0, 1]\n",
        "    img = tf.cast(img, dtype=tf.float32) / tf.cast(255., dtype=tf.float32)\n",
        "    # binarize image\n",
        "    img = tf.cast(img >= 0.25, dtype=tf.float32)\n",
        "    img_input = img - 0.5\n",
        "    # one hot encode label\n",
        "    label = tf.one_hot(tf.cast(label, dtype=tf.uint8), depth=10)\n",
        "\n",
        "    return ((img_input, label), img)\n",
        "\n",
        "\n",
        "ds_train = tfds.load(name=\"mnist\", split=\"train\")\n",
        "ds_val = tfds.load(name=\"mnist\", split=\"test\")\n",
        "\n",
        "ds_train = ds_train.map(preprocess_data, \n",
        "                        num_parallel_calls=tf.data.experimental.AUTOTUNE)\n",
        "ds_val = ds_val.map(preprocess_data, \n",
        "                    num_parallel_calls=tf.data.experimental.AUTOTUNE)\n",
        "\n",
        "ds_train = ds_train.shuffle(5000, reshuffle_each_iteration=True)\\\n",
        "                   .repeat()\\\n",
        "                   .batch(BATCH_SIZE)\\\n",
        "                   .prefetch(10)\n",
        "ds_val = ds_val.shuffle(5000, reshuffle_each_iteration=True)\\\n",
        "               .repeat()\\\n",
        "               .batch(BATCH_SIZE)\\\n",
        "               .prefetch(10)\n"
      ],
      "execution_count": 0,
      "outputs": []
    },
    {
      "cell_type": "markdown",
      "metadata": {
        "id": "eWkGDnOEYklO",
        "colab_type": "text"
      },
      "source": [
        "**Fit model**"
      ]
    },
    {
      "cell_type": "code",
      "metadata": {
        "id": "iFwvTa0wkrFc",
        "colab_type": "code",
        "colab": {}
      },
      "source": [
        "# remove logs data\n",
        "# !kill 7030\n",
        "# !rm -r logs\n",
        "\n",
        "%load_ext tensorboard\n",
        "%tensorboard --logdir=logs"
      ],
      "execution_count": 0,
      "outputs": []
    },
    {
      "cell_type": "code",
      "metadata": {
        "id": "EOZPNn601ahL",
        "colab_type": "code",
        "colab": {
          "base_uri": "https://localhost:8080/",
          "height": 1000
        },
        "outputId": "4e582b3e-c09e-467b-d3d8-80c526cda7e1"
      },
      "source": [
        "conv_cvae = ConvCVAE(input_shape_img=(28, 28, 1),\n",
        "                     input_shape_cond=10,\n",
        "                     latent_dim=50)\n",
        "\n",
        "conv_cvae.compile(optimizer=tf.keras.optimizers.Adam(learning_rate=1e-3),\n",
        "                  loss=tf.keras.losses.BinaryCrossentropy())\n",
        "\n",
        "hist = conv_cvae.fit(ds_train,\n",
        "                     validation_data=ds_val,\n",
        "                     epochs=50,\n",
        "                     steps_per_epoch=ceil(60000 / BATCH_SIZE),\n",
        "                     validation_steps=ceil(10000 / BATCH_SIZE),\n",
        "                     callbacks=[\n",
        "                                tf.keras.callbacks.EarlyStopping(\n",
        "                                    patience=5, \n",
        "                                    restore_best_weights=True\n",
        "                                ),\n",
        "                                tf.keras.callbacks.ReduceLROnPlateau(),\n",
        "                                tf.keras.callbacks.TensorBoard()\n",
        "                               ]\n",
        "                     )\n"
      ],
      "execution_count": 9,
      "outputs": [
        {
          "output_type": "stream",
          "text": [
            "Train for 59 steps, validate for 10 steps\n",
            "Epoch 1/50\n",
            " 1/59 [..............................] - ETA: 2:47 - loss: 1.3545WARNING:tensorflow:Method (on_train_batch_end) is slow compared to the batch update (0.305584). Check your callbacks.\n"
          ],
          "name": "stdout"
        },
        {
          "output_type": "stream",
          "text": [
            "WARNING:tensorflow:Method (on_train_batch_end) is slow compared to the batch update (0.305584). Check your callbacks.\n"
          ],
          "name": "stderr"
        },
        {
          "output_type": "stream",
          "text": [
            "59/59 [==============================] - 26s 435ms/step - loss: 0.8209 - val_loss: 0.4446\n",
            "Epoch 2/50\n",
            "59/59 [==============================] - 22s 366ms/step - loss: 0.4095 - val_loss: 0.3811\n",
            "Epoch 3/50\n",
            "59/59 [==============================] - 36s 616ms/step - loss: 0.3694 - val_loss: 0.3550\n",
            "Epoch 4/50\n",
            "59/59 [==============================] - 36s 611ms/step - loss: 0.3482 - val_loss: 0.3373\n",
            "Epoch 5/50\n",
            "59/59 [==============================] - 31s 524ms/step - loss: 0.3331 - val_loss: 0.3245\n",
            "Epoch 6/50\n",
            "59/59 [==============================] - 33s 558ms/step - loss: 0.3214 - val_loss: 0.3137\n",
            "Epoch 7/50\n",
            "59/59 [==============================] - 35s 585ms/step - loss: 0.3122 - val_loss: 0.3056\n",
            "Epoch 8/50\n",
            "59/59 [==============================] - 33s 563ms/step - loss: 0.3043 - val_loss: 0.2982\n",
            "Epoch 9/50\n",
            "59/59 [==============================] - 35s 586ms/step - loss: 0.2978 - val_loss: 0.2923\n",
            "Epoch 10/50\n",
            "59/59 [==============================] - 27s 452ms/step - loss: 0.2923 - val_loss: 0.2871\n",
            "Epoch 11/50\n",
            "59/59 [==============================] - 37s 632ms/step - loss: 0.2873 - val_loss: 0.2829\n",
            "Epoch 12/50\n",
            "59/59 [==============================] - 32s 549ms/step - loss: 0.2830 - val_loss: 0.2786\n",
            "Epoch 13/50\n",
            "59/59 [==============================] - 33s 551ms/step - loss: 0.2793 - val_loss: 0.2750\n",
            "Epoch 14/50\n",
            "59/59 [==============================] - 34s 574ms/step - loss: 0.2758 - val_loss: 0.2717\n",
            "Epoch 15/50\n",
            "59/59 [==============================] - 34s 571ms/step - loss: 0.2726 - val_loss: 0.2686\n",
            "Epoch 16/50\n",
            "59/59 [==============================] - 35s 601ms/step - loss: 0.2699 - val_loss: 0.2660\n",
            "Epoch 17/50\n",
            "59/59 [==============================] - 35s 585ms/step - loss: 0.2674 - val_loss: 0.2636\n",
            "Epoch 18/50\n",
            "59/59 [==============================] - 37s 619ms/step - loss: 0.2649 - val_loss: 0.2610\n",
            "Epoch 19/50\n",
            "59/59 [==============================] - 34s 583ms/step - loss: 0.2629 - val_loss: 0.2594\n",
            "Epoch 20/50\n",
            "59/59 [==============================] - 37s 629ms/step - loss: 0.2607 - val_loss: 0.2572\n",
            "Epoch 21/50\n",
            "59/59 [==============================] - 31s 528ms/step - loss: 0.2591 - val_loss: 0.2557\n",
            "Epoch 22/50\n",
            "59/59 [==============================] - 36s 617ms/step - loss: 0.2574 - val_loss: 0.2540\n",
            "Epoch 23/50\n",
            "59/59 [==============================] - 31s 530ms/step - loss: 0.2558 - val_loss: 0.2527\n",
            "Epoch 24/50\n",
            "59/59 [==============================] - 28s 467ms/step - loss: 0.2542 - val_loss: 0.2511\n",
            "Epoch 25/50\n",
            "59/59 [==============================] - 36s 607ms/step - loss: 0.2530 - val_loss: 0.2501\n",
            "Epoch 26/50\n",
            "59/59 [==============================] - 33s 554ms/step - loss: 0.2515 - val_loss: 0.2486\n",
            "Epoch 27/50\n",
            "59/59 [==============================] - 28s 482ms/step - loss: 0.2504 - val_loss: 0.2475\n",
            "Epoch 28/50\n",
            "59/59 [==============================] - 29s 491ms/step - loss: 0.2494 - val_loss: 0.2462\n",
            "Epoch 29/50\n",
            "59/59 [==============================] - 37s 628ms/step - loss: 0.2482 - val_loss: 0.2453\n",
            "Epoch 30/50\n",
            "59/59 [==============================] - 33s 555ms/step - loss: 0.2472 - val_loss: 0.2445\n",
            "Epoch 31/50\n",
            "59/59 [==============================] - 32s 537ms/step - loss: 0.2465 - val_loss: 0.2437\n",
            "Epoch 32/50\n",
            "59/59 [==============================] - 35s 586ms/step - loss: 0.2454 - val_loss: 0.2428\n",
            "Epoch 33/50\n",
            "59/59 [==============================] - 36s 610ms/step - loss: 0.2448 - val_loss: 0.2419\n",
            "Epoch 34/50\n",
            "59/59 [==============================] - 34s 585ms/step - loss: 0.2439 - val_loss: 0.2413\n",
            "Epoch 35/50\n",
            "59/59 [==============================] - 34s 584ms/step - loss: 0.2434 - val_loss: 0.2404\n",
            "Epoch 36/50\n",
            "59/59 [==============================] - 35s 596ms/step - loss: 0.2426 - val_loss: 0.2397\n",
            "Epoch 37/50\n",
            "59/59 [==============================] - 33s 551ms/step - loss: 0.2418 - val_loss: 0.2390\n",
            "Epoch 38/50\n",
            "59/59 [==============================] - 36s 618ms/step - loss: 0.2414 - val_loss: 0.2384\n",
            "Epoch 39/50\n",
            "59/59 [==============================] - 33s 560ms/step - loss: 0.2408 - val_loss: 0.2381\n",
            "Epoch 40/50\n",
            "59/59 [==============================] - 34s 580ms/step - loss: 0.2404 - val_loss: 0.2375\n",
            "Epoch 41/50\n",
            "59/59 [==============================] - 35s 588ms/step - loss: 0.2397 - val_loss: 0.2374\n",
            "Epoch 42/50\n",
            "59/59 [==============================] - 33s 565ms/step - loss: 0.2394 - val_loss: 0.2367\n",
            "Epoch 43/50\n",
            "59/59 [==============================] - 35s 598ms/step - loss: 0.2389 - val_loss: 0.2363\n",
            "Epoch 44/50\n",
            "59/59 [==============================] - 32s 549ms/step - loss: 0.2385 - val_loss: 0.2357\n",
            "Epoch 45/50\n",
            "59/59 [==============================] - 34s 574ms/step - loss: 0.2381 - val_loss: 0.2356\n",
            "Epoch 46/50\n",
            "59/59 [==============================] - 35s 589ms/step - loss: 0.2377 - val_loss: 0.2353\n",
            "Epoch 47/50\n",
            "59/59 [==============================] - 37s 626ms/step - loss: 0.2376 - val_loss: 0.2347\n",
            "Epoch 48/50\n",
            "59/59 [==============================] - 35s 586ms/step - loss: 0.2370 - val_loss: 0.2343\n",
            "Epoch 49/50\n",
            "59/59 [==============================] - 35s 585ms/step - loss: 0.2367 - val_loss: 0.2340\n",
            "Epoch 50/50\n",
            "59/59 [==============================] - 34s 571ms/step - loss: 0.2366 - val_loss: 0.2338\n"
          ],
          "name": "stdout"
        }
      ]
    },
    {
      "cell_type": "markdown",
      "metadata": {
        "id": "hDKEVZ_xaAja",
        "colab_type": "text"
      },
      "source": [
        "**See how generated images look like**"
      ]
    },
    {
      "cell_type": "code",
      "metadata": {
        "id": "mALXyvcDaFN0",
        "colab_type": "code",
        "colab": {
          "base_uri": "https://localhost:8080/",
          "height": 536
        },
        "outputId": "8e87f8f5-d5ff-4b04-b6a4-da54bd0142e8"
      },
      "source": [
        "NUM_IMGS = 30\n",
        "LATENT_DIM = 50\n",
        "\n",
        "noise = np.random.normal(size=(NUM_IMGS, LATENT_DIM))\n",
        "cond_input = np.zeros(shape=(NUM_IMGS, 10))\n",
        "\n",
        "x_idx = np.arange(0, NUM_IMGS)\n",
        "y_idx = np.random.randint(low=0, high=10, size=(NUM_IMGS))\n",
        "cond_input[x_idx, y_idx] = 1.\n",
        "\n",
        "dec_input = np.concatenate([noise, cond_input], axis=1).astype(np.float32)\n",
        "imgs = conv_cvae.dec(dec_input).numpy()\n",
        "\n",
        "fig, axs = plt.subplots(nrows=NUM_IMGS//5, ncols=5, figsize=(9, 9))\n",
        "\n",
        "for img_idx in range(imgs.shape[0]):\n",
        "  img = np.sum(imgs[img_idx, :, :, :], axis=-1)\n",
        "  axs[np.unravel_index(img_idx, (NUM_IMGS//5, 5))].imshow(img)\n",
        "  axs[np.unravel_index(img_idx, (NUM_IMGS//5, 5))].axis('off')\n",
        "  axs[np.unravel_index(img_idx, (NUM_IMGS//5, 5))].set_title(\n",
        "      f'Should be: {int(np.argwhere(cond_input[img_idx, :] == 1))}'\n",
        "      )\n",
        "\n",
        "plt.show()"
      ],
      "execution_count": 10,
      "outputs": [
        {
          "output_type": "display_data",
          "data": {
            "image/png": "[encoded data removed]",
            "text/plain": [
              "<Figure size 648x648 with 30 Axes>"
            ]
          },
          "metadata": {
            "tags": []
          }
        }
      ]
    },
    {
      "cell_type": "code",
      "metadata": {
        "id": "ZqU93qy2JQRu",
        "colab_type": "code",
        "colab": {
          "base_uri": "https://localhost:8080/",
          "height": 520
        },
        "outputId": "ced60dc1-4afd-4b83-8520-acfc0586c715"
      },
      "source": [
        "noise = np.random.normal(size=(NUM_IMGS, LATENT_DIM), scale=1)\n",
        "cond_input = np.zeros(shape=(NUM_IMGS, 10))\n",
        "\n",
        "cond_input[:, 3]  = 1.\n",
        "\n",
        "dec_input = np.concatenate([noise, cond_input], axis=1).astype(np.float32)\n",
        "imgs = conv_cvae.dec(dec_input).numpy()\n",
        "\n",
        "fig, axs = plt.subplots(nrows=NUM_IMGS//5, ncols=5, figsize=(9, 9))\n",
        "\n",
        "for img_idx in range(imgs.shape[0]):\n",
        "  img = np.sum(imgs[img_idx, :, :, :], axis=-1) > 0.5\n",
        "  axs[np.unravel_index(img_idx, (NUM_IMGS//5, 5))].imshow(img)\n",
        "  axs[np.unravel_index(img_idx, (NUM_IMGS//5, 5))].axis('off')\n",
        "\n",
        "plt.show()"
      ],
      "execution_count": 64,
      "outputs": [
        {
          "output_type": "display_data",
          "data": {
            "image/png": "[encoded data removed]",
            "text/plain": [
              "<Figure size 648x648 with 30 Axes>"
            ]
          },
          "metadata": {
            "tags": []
          }
        }
      ]
    },
    {
      "cell_type": "code",
      "metadata": {
        "id": "2b_6gSzA0IWN",
        "colab_type": "code",
        "colab": {}
      },
      "source": [
        ""
      ],
      "execution_count": 0,
      "outputs": []
    }
  ]
}